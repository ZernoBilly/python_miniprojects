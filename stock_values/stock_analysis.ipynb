{
 "cells": [
  {
   "cell_type": "markdown",
   "id": "698d26db",
   "metadata": {},
   "source": [
    "# Stock data analysis"
   ]
  },
  {
   "cell_type": "markdown",
   "id": "a208daa2",
   "metadata": {},
   "source": [
    "### Needed imports"
   ]
  },
  {
   "cell_type": "code",
   "execution_count": 1,
   "id": "489ffdba",
   "metadata": {},
   "outputs": [],
   "source": [
    "import pandas as pd\n",
    "import numpy as np\n",
    "import pandas_datareader as pdr\n",
    "import matplotlib.pyplot as plt"
   ]
  },
  {
   "cell_type": "markdown",
   "id": "7ca27ad4",
   "metadata": {},
   "source": [
    "### Run main.py and get data"
   ]
  },
  {
   "cell_type": "code",
   "execution_count": 10,
   "id": "f75a9382",
   "metadata": {},
   "outputs": [
    {
     "data": {
      "text/html": [
       "<div>\n",
       "<style scoped>\n",
       "    .dataframe tbody tr th:only-of-type {\n",
       "        vertical-align: middle;\n",
       "    }\n",
       "\n",
       "    .dataframe tbody tr th {\n",
       "        vertical-align: top;\n",
       "    }\n",
       "\n",
       "    .dataframe thead th {\n",
       "        text-align: right;\n",
       "    }\n",
       "</style>\n",
       "<table border=\"1\" class=\"dataframe\">\n",
       "  <thead>\n",
       "    <tr style=\"text-align: right;\">\n",
       "      <th></th>\n",
       "      <th>Date</th>\n",
       "      <th>High</th>\n",
       "      <th>Low</th>\n",
       "      <th>Open</th>\n",
       "      <th>Close</th>\n",
       "      <th>Volume</th>\n",
       "      <th>Weekday</th>\n",
       "      <th>Diff_percent</th>\n",
       "      <th>Avg_weekday</th>\n",
       "      <th>Diff_from_max</th>\n",
       "      <th>Diff_from_min</th>\n",
       "      <th>Diff_percent_from_avg</th>\n",
       "    </tr>\n",
       "  </thead>\n",
       "  <tbody>\n",
       "    <tr>\n",
       "      <th>0</th>\n",
       "      <td>2022-05-23</td>\n",
       "      <td>8.435</td>\n",
       "      <td>8.195</td>\n",
       "      <td>8.375</td>\n",
       "      <td>8.275</td>\n",
       "      <td>75196</td>\n",
       "      <td>Monday</td>\n",
       "      <td>0.000000</td>\n",
       "      <td>0.000000</td>\n",
       "      <td>-0.429999</td>\n",
       "      <td>0.139999</td>\n",
       "      <td>-0.161429</td>\n",
       "    </tr>\n",
       "    <tr>\n",
       "      <th>1</th>\n",
       "      <td>2022-05-24</td>\n",
       "      <td>8.300</td>\n",
       "      <td>8.055</td>\n",
       "      <td>8.055</td>\n",
       "      <td>8.145</td>\n",
       "      <td>68429</td>\n",
       "      <td>Tuesday</td>\n",
       "      <td>-3.972684</td>\n",
       "      <td>-1.101635</td>\n",
       "      <td>-0.565000</td>\n",
       "      <td>0.000000</td>\n",
       "      <td>-0.298928</td>\n",
       "    </tr>\n",
       "    <tr>\n",
       "      <th>2</th>\n",
       "      <td>2022-05-25</td>\n",
       "      <td>8.390</td>\n",
       "      <td>8.080</td>\n",
       "      <td>8.225</td>\n",
       "      <td>8.365</td>\n",
       "      <td>97870</td>\n",
       "      <td>Wednesday</td>\n",
       "      <td>2.066870</td>\n",
       "      <td>1.260708</td>\n",
       "      <td>-0.474999</td>\n",
       "      <td>0.025000</td>\n",
       "      <td>-0.241428</td>\n",
       "    </tr>\n",
       "    <tr>\n",
       "      <th>3</th>\n",
       "      <td>2022-05-27</td>\n",
       "      <td>8.590</td>\n",
       "      <td>8.355</td>\n",
       "      <td>8.390</td>\n",
       "      <td>8.540</td>\n",
       "      <td>84131</td>\n",
       "      <td>Friday</td>\n",
       "      <td>1.966626</td>\n",
       "      <td>1.966626</td>\n",
       "      <td>-0.275000</td>\n",
       "      <td>0.299999</td>\n",
       "      <td>-0.003929</td>\n",
       "    </tr>\n",
       "    <tr>\n",
       "      <th>4</th>\n",
       "      <td>2022-05-30</td>\n",
       "      <td>8.745</td>\n",
       "      <td>8.585</td>\n",
       "      <td>8.605</td>\n",
       "      <td>8.695</td>\n",
       "      <td>72440</td>\n",
       "      <td>Monday</td>\n",
       "      <td>2.498538</td>\n",
       "      <td>1.249269</td>\n",
       "      <td>-0.120000</td>\n",
       "      <td>0.530000</td>\n",
       "      <td>0.188571</td>\n",
       "    </tr>\n",
       "    <tr>\n",
       "      <th>5</th>\n",
       "      <td>2022-05-31</td>\n",
       "      <td>8.865</td>\n",
       "      <td>8.610</td>\n",
       "      <td>8.760</td>\n",
       "      <td>8.830</td>\n",
       "      <td>260302</td>\n",
       "      <td>Tuesday</td>\n",
       "      <td>1.769414</td>\n",
       "      <td>-1.101635</td>\n",
       "      <td>0.000000</td>\n",
       "      <td>0.554999</td>\n",
       "      <td>0.261071</td>\n",
       "    </tr>\n",
       "    <tr>\n",
       "      <th>6</th>\n",
       "      <td>2022-06-01</td>\n",
       "      <td>8.840</td>\n",
       "      <td>8.625</td>\n",
       "      <td>8.800</td>\n",
       "      <td>8.685</td>\n",
       "      <td>165151</td>\n",
       "      <td>Wednesday</td>\n",
       "      <td>0.454545</td>\n",
       "      <td>1.260708</td>\n",
       "      <td>-0.025000</td>\n",
       "      <td>0.570000</td>\n",
       "      <td>0.256071</td>\n",
       "    </tr>\n",
       "  </tbody>\n",
       "</table>\n",
       "</div>"
      ],
      "text/plain": [
       "         Date   High    Low   Open  Close  Volume    Weekday  Diff_percent  \\\n",
       "0  2022-05-23  8.435  8.195  8.375  8.275   75196     Monday      0.000000   \n",
       "1  2022-05-24  8.300  8.055  8.055  8.145   68429    Tuesday     -3.972684   \n",
       "2  2022-05-25  8.390  8.080  8.225  8.365   97870  Wednesday      2.066870   \n",
       "3  2022-05-27  8.590  8.355  8.390  8.540   84131     Friday      1.966626   \n",
       "4  2022-05-30  8.745  8.585  8.605  8.695   72440     Monday      2.498538   \n",
       "5  2022-05-31  8.865  8.610  8.760  8.830  260302    Tuesday      1.769414   \n",
       "6  2022-06-01  8.840  8.625  8.800  8.685  165151  Wednesday      0.454545   \n",
       "\n",
       "   Avg_weekday  Diff_from_max  Diff_from_min  Diff_percent_from_avg  \n",
       "0     0.000000      -0.429999       0.139999              -0.161429  \n",
       "1    -1.101635      -0.565000       0.000000              -0.298928  \n",
       "2     1.260708      -0.474999       0.025000              -0.241428  \n",
       "3     1.966626      -0.275000       0.299999              -0.003929  \n",
       "4     1.249269      -0.120000       0.530000               0.188571  \n",
       "5    -1.101635       0.000000       0.554999               0.261071  \n",
       "6     1.260708      -0.025000       0.570000               0.256071  "
      ]
     },
     "execution_count": 10,
     "metadata": {},
     "output_type": "execute_result"
    }
   ],
   "source": [
    "# List of tickers\n",
    "tickers = {\"fortum\": \"FORTUM.HE\", \"wartsila\": \"WRT1V.HE\", \"tietoevry\": \"TIETO.HE\", \"telia\": \"TELIA1.HE\", \"rovio\": \"ROVIO.HE\" }\n",
    "\n",
    "# main.py program writes new csv file give ticker and days as arguments\n",
    "ticker = tickers[\"rovio\"]\n",
    "days = 10\n",
    "%run -i main.py\n",
    "\n",
    "stock_data = pd.read_csv(\"data/stock_data.csv\")\n",
    "stock_data"
   ]
  },
  {
   "cell_type": "code",
   "execution_count": 18,
   "id": "0bdcd765",
   "metadata": {
    "scrolled": false
   },
   "outputs": [
    {
     "data": {
      "text/plain": [
       "<AxesSubplot:>"
      ]
     },
     "execution_count": 18,
     "metadata": {},
     "output_type": "execute_result"
    },
    {
     "data": {
      "image/png": "[encoded data removed]",
      "text/plain": [
       "<Figure size 864x576 with 1 Axes>"
      ]
     },
     "metadata": {
      "needs_background": "light"
     },
     "output_type": "display_data"
    }
   ],
   "source": [
    "stock_data[\"Diff_percent_from_avg\"].plot(figsize=(12, 8))"
   ]
  },
  {
   "cell_type": "code",
   "execution_count": null,
   "id": "e31e7fe1",
   "metadata": {},
   "outputs": [],
   "source": []
  }
 ],
 "metadata": {
  "kernelspec": {
   "display_name": "Python 3 (ipykernel)",
   "language": "python",
   "name": "python3"
  },
  "language_info": {
   "codemirror_mode": {
    "name": "ipython",
    "version": 3
   },
   "file_extension": ".py",
   "mimetype": "text/x-python",
   "name": "python",
   "nbconvert_exporter": "python",
   "pygments_lexer": "ipython3",
   "version": "3.10.4"
  }
 },
 "nbformat": 4,
 "nbformat_minor": 5
}
