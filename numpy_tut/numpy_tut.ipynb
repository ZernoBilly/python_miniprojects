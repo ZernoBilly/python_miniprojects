{
 "cells": [
  {
   "cell_type": "markdown",
   "id": "cb049073",
   "metadata": {},
   "source": [
    "# 1. Getting started with NumPy\n"
   ]
  },
  {
   "cell_type": "code",
   "execution_count": 2,
   "id": "905bbf2a",
   "metadata": {},
   "outputs": [],
   "source": [
    "import numpy as np"
   ]
  },
  {
   "cell_type": "code",
   "execution_count": 3,
   "id": "49992aaf",
   "metadata": {},
   "outputs": [],
   "source": [
    "# Sides of Square\n",
    "square_sides = [4, 5, 6, 7, 9, 89, 99]"
   ]
  },
  {
   "cell_type": "code",
   "execution_count": 5,
   "id": "fc3f31a9",
   "metadata": {},
   "outputs": [
    {
     "name": "stdout",
     "output_type": "stream",
     "text": [
      "[  16   25   36   49   81 7921 9801]\n"
     ]
    }
   ],
   "source": [
    "sides_array = np.array(square_sides)\n",
    "\n",
    "area_array = sides_array * sides_array\n",
    "print(area_array)"
   ]
  },
  {
   "cell_type": "markdown",
   "id": "4c26b8de",
   "metadata": {},
   "source": [
    "## Array example"
   ]
  },
  {
   "cell_type": "code",
   "execution_count": 6,
   "id": "5073cd42",
   "metadata": {},
   "outputs": [
    {
     "data": {
      "text/plain": [
       "array([6, 6, 6, 6, 6])"
      ]
     },
     "execution_count": 6,
     "metadata": {},
     "output_type": "execute_result"
    }
   ],
   "source": [
    "array1 = np.array([1,2,3,4,5])\n",
    "array2 = np.array([5,4,3,2,1])\n",
    "\n",
    "array1 +  array2"
   ]
  },
  {
   "cell_type": "markdown",
   "id": "65abb889",
   "metadata": {},
   "source": [
    "## Calculate BMI"
   ]
  },
  {
   "cell_type": "code",
   "execution_count": 9,
   "id": "83bd7d92",
   "metadata": {},
   "outputs": [
    {
     "data": {
      "text/plain": [
       "array([21.97133586, 24.48979592, 33.46403461, 15.69560048, 20.        ,\n",
       "       21.54195011])"
      ]
     },
     "execution_count": 9,
     "metadata": {},
     "output_type": "execute_result"
    }
   ],
   "source": [
    "height = np.array([1.72, 1.75, 1.72, 1.45, 1.50, 2.10])\n",
    "weight = np.array([65, 75, 99, 33, 45, 95])\n",
    "\n",
    "# Calculate BMI weigt/height**2\n",
    "bmi_array = weight/(height**2)\n",
    "bmi_array"
   ]
  },
  {
   "cell_type": "code",
   "execution_count": 10,
   "id": "cc753801",
   "metadata": {},
   "outputs": [
    {
     "data": {
      "text/plain": [
       "21.971335857220122"
      ]
     },
     "execution_count": 10,
     "metadata": {},
     "output_type": "execute_result"
    }
   ],
   "source": [
    "bmi_array[0]"
   ]
  },
  {
   "cell_type": "code",
   "execution_count": 11,
   "id": "35f66dfa",
   "metadata": {},
   "outputs": [
    {
     "data": {
      "text/plain": [
       "21.541950113378682"
      ]
     },
     "execution_count": 11,
     "metadata": {},
     "output_type": "execute_result"
    }
   ],
   "source": [
    "bmi_array[-1]"
   ]
  },
  {
   "cell_type": "markdown",
   "id": "336c9182",
   "metadata": {},
   "source": [
    "## Convert to 2D array"
   ]
  },
  {
   "cell_type": "code",
   "execution_count": 14,
   "id": "e68506db",
   "metadata": {},
   "outputs": [
    {
     "data": {
      "text/plain": [
       "array([[21.97133586, 24.48979592],\n",
       "       [33.46403461, 15.69560048],\n",
       "       [20.        , 21.54195011]])"
      ]
     },
     "execution_count": 14,
     "metadata": {},
     "output_type": "execute_result"
    }
   ],
   "source": [
    "bmi_array.reshape(3, 2)"
   ]
  },
  {
   "cell_type": "markdown",
   "id": "6386848a",
   "metadata": {},
   "source": [
    "## Atributers of numpy array"
   ]
  },
  {
   "cell_type": "code",
   "execution_count": 18,
   "id": "4d785e34",
   "metadata": {},
   "outputs": [
    {
     "name": "stdout",
     "output_type": "stream",
     "text": [
      "[[ 1  2  3]\n",
      " [ 4  5  6]\n",
      " [ 7  8  9]\n",
      " [10 11 12]]\n"
     ]
    }
   ],
   "source": [
    "np_array = np.array([[1,2,3], [4,5,6], [7,8,9], [10, 11, 12]])\n",
    "print(np_array)"
   ]
  },
  {
   "cell_type": "code",
   "execution_count": 19,
   "id": "b6b18dc6",
   "metadata": {},
   "outputs": [
    {
     "data": {
      "text/plain": [
       "12"
      ]
     },
     "execution_count": 19,
     "metadata": {},
     "output_type": "execute_result"
    }
   ],
   "source": [
    "# Check size\n",
    "np_array.size"
   ]
  },
  {
   "cell_type": "code",
   "execution_count": 20,
   "id": "58ac41dd",
   "metadata": {},
   "outputs": [
    {
     "data": {
      "text/plain": [
       "(4, 3)"
      ]
     },
     "execution_count": 20,
     "metadata": {},
     "output_type": "execute_result"
    }
   ],
   "source": [
    "# Check shape\n",
    "np_array.shape"
   ]
  },
  {
   "cell_type": "code",
   "execution_count": 21,
   "id": "969ffba1",
   "metadata": {},
   "outputs": [
    {
     "data": {
      "text/plain": [
       "2"
      ]
     },
     "execution_count": 21,
     "metadata": {},
     "output_type": "execute_result"
    }
   ],
   "source": [
    "# Check dimensions\n",
    "np_array.ndim"
   ]
  },
  {
   "cell_type": "code",
   "execution_count": 22,
   "id": "5f1542b2",
   "metadata": {},
   "outputs": [
    {
     "data": {
      "text/plain": [
       "dtype('int32')"
      ]
     },
     "execution_count": 22,
     "metadata": {},
     "output_type": "execute_result"
    }
   ],
   "source": [
    "# Check datatype\n",
    "np_array.dtype"
   ]
  },
  {
   "cell_type": "markdown",
   "id": "39aee022",
   "metadata": {},
   "source": [
    "## Methods to create NumPy arrays"
   ]
  },
  {
   "cell_type": "markdown",
   "id": "531a52e2",
   "metadata": {},
   "source": [
    "1. array()\n",
    "2. ones()\n",
    "3. zeros()\n",
    "4. arange()\n",
    "5. linspace()\n",
    "6. random.random()"
   ]
  },
  {
   "cell_type": "code",
   "execution_count": 26,
   "id": "07965830",
   "metadata": {},
   "outputs": [
    {
     "data": {
      "text/plain": [
       "array([1.5 , 1.7 , 1.55, 1.68, 1.99, 1.87, 2.1 , 1.45, 1.99, 1.83])"
      ]
     },
     "execution_count": 26,
     "metadata": {},
     "output_type": "execute_result"
    }
   ],
   "source": [
    "# array() from list\n",
    "player_height = [1.5, 1.7, 1.55, 1.68, 1.99, 1.87, 2.1, 1.45, 1.99, 1.83]\n",
    "\n",
    "np_height = np.array(player_height)\n",
    "np_height"
   ]
  },
  {
   "cell_type": "code",
   "execution_count": 28,
   "id": "d4c315b6",
   "metadata": {},
   "outputs": [
    {
     "data": {
      "text/plain": [
       "array([['Dollar', '$'],\n",
       "       ['Pound', '£'],\n",
       "       ['Euro', '€']], dtype='<U6')"
      ]
     },
     "execution_count": 28,
     "metadata": {},
     "output_type": "execute_result"
    }
   ],
   "source": [
    "# array() from dictionary\n",
    "currency = {\"Dollar\": \"$\", \"Pound\": \"£\", \"Euro\": \"€\"}\n",
    "np_currency = np.array(list(currency.items()))\n",
    "np_currency"
   ]
  },
  {
   "cell_type": "code",
   "execution_count": 30,
   "id": "af82583b",
   "metadata": {},
   "outputs": [
    {
     "data": {
      "text/plain": [
       "array([1., 1., 1., 1., 1., 1., 1., 1., 1., 1.])"
      ]
     },
     "execution_count": 30,
     "metadata": {},
     "output_type": "execute_result"
    }
   ],
   "source": [
    "# ones()\n",
    "array_ones = np.ones(10)\n",
    "array_ones"
   ]
  },
  {
   "cell_type": "code",
   "execution_count": 33,
   "id": "81074ef3",
   "metadata": {},
   "outputs": [
    {
     "data": {
      "text/plain": [
       "array([1, 1, 1, 1, 1, 1, 1, 1, 1, 1])"
      ]
     },
     "execution_count": 33,
     "metadata": {},
     "output_type": "execute_result"
    }
   ],
   "source": [
    "arr_ones = np.ones(10, dtype=int)\n",
    "arr_ones"
   ]
  },
  {
   "cell_type": "code",
   "execution_count": 34,
   "id": "28f2b06e",
   "metadata": {},
   "outputs": [
    {
     "data": {
      "text/plain": [
       "array([[1, 1, 1, 1, 1],\n",
       "       [1, 1, 1, 1, 1]])"
      ]
     },
     "execution_count": 34,
     "metadata": {},
     "output_type": "execute_result"
    }
   ],
   "source": [
    "arr_ones.reshape(2, 5)"
   ]
  },
  {
   "cell_type": "code",
   "execution_count": 35,
   "id": "7d6138ae",
   "metadata": {},
   "outputs": [
    {
     "data": {
      "text/plain": [
       "4"
      ]
     },
     "execution_count": 35,
     "metadata": {},
     "output_type": "execute_result"
    }
   ],
   "source": [
    "arr_ones.itemsize"
   ]
  },
  {
   "cell_type": "code",
   "execution_count": 37,
   "id": "57dff034",
   "metadata": {},
   "outputs": [
    {
     "data": {
      "text/plain": [
       "array([0., 0., 0., 0., 0., 0., 0., 0., 0., 0., 0., 0., 0., 0., 0., 0., 0.,\n",
       "       0., 0., 0.])"
      ]
     },
     "execution_count": 37,
     "metadata": {},
     "output_type": "execute_result"
    }
   ],
   "source": [
    "# zeros()\n",
    "array_zeros = np.zeros(20)\n",
    "array_zeros"
   ]
  },
  {
   "cell_type": "code",
   "execution_count": 40,
   "id": "f9005707",
   "metadata": {},
   "outputs": [
    {
     "data": {
      "text/plain": [
       "array([[0, 0, 0],\n",
       "       [0, 0, 0],\n",
       "       [0, 0, 0],\n",
       "       [0, 0, 0]])"
      ]
     },
     "execution_count": 40,
     "metadata": {},
     "output_type": "execute_result"
    }
   ],
   "source": [
    "arr_zeros = np.zeros(dtype=int, shape=(4, 3))\n",
    "arr_zeros"
   ]
  },
  {
   "cell_type": "code",
   "execution_count": 41,
   "id": "edd1cccd",
   "metadata": {},
   "outputs": [
    {
     "data": {
      "text/plain": [
       "array([ 0,  1,  2,  3,  4,  5,  6,  7,  8,  9, 10])"
      ]
     },
     "execution_count": 41,
     "metadata": {},
     "output_type": "execute_result"
    }
   ],
   "source": [
    "# arange()\n",
    "np.arange(11)"
   ]
  },
  {
   "cell_type": "code",
   "execution_count": 42,
   "id": "0fe76eec",
   "metadata": {},
   "outputs": [
    {
     "data": {
      "text/plain": [
       "array([ 0,  2,  4,  6,  8, 10, 12, 14, 16, 18])"
      ]
     },
     "execution_count": 42,
     "metadata": {},
     "output_type": "execute_result"
    }
   ],
   "source": [
    "np.arange(0, 20, 2)"
   ]
  },
  {
   "cell_type": "code",
   "execution_count": 43,
   "id": "4e6e9b35",
   "metadata": {},
   "outputs": [
    {
     "data": {
      "text/plain": [
       "array([[ 0,  1,  2],\n",
       "       [ 3,  4,  5],\n",
       "       [ 6,  7,  8],\n",
       "       [ 9, 10, 11],\n",
       "       [12, 13, 14]])"
      ]
     },
     "execution_count": 43,
     "metadata": {},
     "output_type": "execute_result"
    }
   ],
   "source": [
    "np.arange(15).reshape(5,3)"
   ]
  },
  {
   "cell_type": "code",
   "execution_count": 44,
   "id": "23907493",
   "metadata": {},
   "outputs": [
    {
     "data": {
      "text/plain": [
       "array([  1.        ,  18.20689655,  35.4137931 ,  52.62068966,\n",
       "        69.82758621,  87.03448276, 104.24137931, 121.44827586,\n",
       "       138.65517241, 155.86206897, 173.06896552, 190.27586207,\n",
       "       207.48275862, 224.68965517, 241.89655172, 259.10344828,\n",
       "       276.31034483, 293.51724138, 310.72413793, 327.93103448,\n",
       "       345.13793103, 362.34482759, 379.55172414, 396.75862069,\n",
       "       413.96551724, 431.17241379, 448.37931034, 465.5862069 ,\n",
       "       482.79310345, 500.        ])"
      ]
     },
     "execution_count": 44,
     "metadata": {},
     "output_type": "execute_result"
    }
   ],
   "source": [
    "# linspace()\n",
    "np.linspace(1, 500, 30)"
   ]
  },
  {
   "cell_type": "code",
   "execution_count": 45,
   "id": "485a04f0",
   "metadata": {},
   "outputs": [
    {
     "data": {
      "text/plain": [
       "0.42777382055611735"
      ]
     },
     "execution_count": 45,
     "metadata": {},
     "output_type": "execute_result"
    }
   ],
   "source": [
    "# random.random()\n",
    "np.random.random()"
   ]
  },
  {
   "cell_type": "code",
   "execution_count": 46,
   "id": "0f956e2f",
   "metadata": {},
   "outputs": [
    {
     "data": {
      "text/plain": [
       "array([[0.05603996, 0.84340763, 0.99380579, 0.04986457],\n",
       "       [0.90679013, 0.06350956, 0.24368683, 0.21968469],\n",
       "       [0.75605645, 0.13047183, 0.26994372, 0.71209758],\n",
       "       [0.11482638, 0.07680708, 0.31567559, 0.37891666],\n",
       "       [0.19764951, 0.82615023, 0.7938021 , 0.24198946]])"
      ]
     },
     "execution_count": 46,
     "metadata": {},
     "output_type": "execute_result"
    }
   ],
   "source": [
    "np.random.random([5,4])"
   ]
  },
  {
   "cell_type": "code",
   "execution_count": 48,
   "id": "505287d8",
   "metadata": {},
   "outputs": [
    {
     "data": {
      "text/plain": [
       "array([[45.84189151, 76.35750406, 43.28734793, 26.24984098],\n",
       "       [ 1.19726903, 25.10238425, 17.14997679, 14.22543174],\n",
       "       [39.94387771, 16.38999013, 93.41300418, 93.59369495],\n",
       "       [66.57664502, 29.58785615, 47.5738848 , 12.83642504],\n",
       "       [49.54555211, 49.07916026, 25.14270253,  5.9958787 ]])"
      ]
     },
     "execution_count": 48,
     "metadata": {},
     "output_type": "execute_result"
    }
   ],
   "source": [
    "np.random.random([5, 4]) * 100"
   ]
  },
  {
   "cell_type": "code",
   "execution_count": 50,
   "id": "086545a0",
   "metadata": {},
   "outputs": [
    {
     "data": {
      "text/plain": [
       "array([[ 6.89125853, 10.13925992,  8.66105864,  1.70582958,  4.04365843],\n",
       "       [ 9.1325605 ,  3.55977632,  6.20203386, 10.94605115,  7.49092865],\n",
       "       [10.25029525,  5.13465888,  8.71925978,  4.17870565,  7.63508709],\n",
       "       [ 9.59110136,  4.64700352,  0.26360283, 10.0604883 ,  1.36747062]])"
      ]
     },
     "execution_count": 50,
     "metadata": {},
     "output_type": "execute_result"
    }
   ],
   "source": [
    "np.random.random([4, 5]) * 12"
   ]
  },
  {
   "cell_type": "code",
   "execution_count": 52,
   "id": "1a61956a",
   "metadata": {},
   "outputs": [
    {
     "data": {
      "text/plain": [
       "array([[11,  3,  4,  2,  0],\n",
       "       [ 0,  3, 11,  4,  2],\n",
       "       [ 5,  2,  8,  7,  5],\n",
       "       [ 1,  9,  2,  8,  5]])"
      ]
     },
     "execution_count": 52,
     "metadata": {},
     "output_type": "execute_result"
    }
   ],
   "source": [
    "np_int32 = (np.random.random([4, 5]) * 12).astype(\"int32\")\n",
    "np_int32"
   ]
  },
  {
   "cell_type": "markdown",
   "id": "63c019b1",
   "metadata": {},
   "source": [
    "## Indexing"
   ]
  },
  {
   "cell_type": "code",
   "execution_count": 53,
   "id": "43bd7124",
   "metadata": {},
   "outputs": [
    {
     "data": {
      "text/plain": [
       "array([ 0,  3, 11,  4,  2])"
      ]
     },
     "execution_count": 53,
     "metadata": {},
     "output_type": "execute_result"
    }
   ],
   "source": [
    "# row\n",
    "np_int32[1]"
   ]
  },
  {
   "cell_type": "code",
   "execution_count": 54,
   "id": "7d300b2f",
   "metadata": {},
   "outputs": [
    {
     "data": {
      "text/plain": [
       "array([2, 4, 7, 8])"
      ]
     },
     "execution_count": 54,
     "metadata": {},
     "output_type": "execute_result"
    }
   ],
   "source": [
    "# column\n",
    "np_int32[:,-2]"
   ]
  },
  {
   "cell_type": "code",
   "execution_count": 61,
   "id": "1c377709",
   "metadata": {},
   "outputs": [
    {
     "data": {
      "text/plain": [
       "array([3, 3, 2, 9])"
      ]
     },
     "execution_count": 61,
     "metadata": {},
     "output_type": "execute_result"
    }
   ],
   "source": [
    "# row and column\n",
    "np_int32[0:3, -1]\n",
    "np_int32[:, 1]"
   ]
  },
  {
   "cell_type": "markdown",
   "id": "a027ae77",
   "metadata": {},
   "source": [
    "## Sub-array"
   ]
  },
  {
   "cell_type": "code",
   "execution_count": 74,
   "id": "edaeaec7",
   "metadata": {},
   "outputs": [
    {
     "data": {
      "text/plain": [
       "array([[ 3, 11,  4],\n",
       "       [ 2,  8,  7]])"
      ]
     },
     "execution_count": 74,
     "metadata": {},
     "output_type": "execute_result"
    }
   ],
   "source": [
    "A = np_int32[1:3, 1:4]\n",
    "A"
   ]
  },
  {
   "cell_type": "code",
   "execution_count": 77,
   "id": "ab9d90fb",
   "metadata": {},
   "outputs": [
    {
     "data": {
      "text/plain": [
       "array([11,  7,  8])"
      ]
     },
     "execution_count": 77,
     "metadata": {},
     "output_type": "execute_result"
    }
   ],
   "source": [
    "B = A[[0, 1, 1], [1, 2, 1]] # [rows], [columns]\n",
    "B"
   ]
  },
  {
   "cell_type": "code",
   "execution_count": null,
   "id": "42c3769b",
   "metadata": {},
   "outputs": [],
   "source": []
  }
 ],
 "metadata": {
  "kernelspec": {
   "display_name": "Python 3 (ipykernel)",
   "language": "python",
   "name": "python3"
  },
  "language_info": {
   "codemirror_mode": {
    "name": "ipython",
    "version": 3
   },
   "file_extension": ".py",
   "mimetype": "text/x-python",
   "name": "python",
   "nbconvert_exporter": "python",
   "pygments_lexer": "ipython3",
   "version": "3.7.13"
  }
 },
 "nbformat": 4,
 "nbformat_minor": 5
}
